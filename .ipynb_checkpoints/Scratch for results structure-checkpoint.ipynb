{
 "cells": [
  {
   "cell_type": "markdown",
   "id": "3b495c35",
   "metadata": {},
   "source": [
    "# Scratch for creating a fake ab test result analysis"
   ]
  },
  {
   "cell_type": "code",
   "execution_count": 1,
   "id": "58bdf600",
   "metadata": {},
   "outputs": [],
   "source": [
    "import pandas as pd"
   ]
  },
  {
   "cell_type": "markdown",
   "id": "5d69e801",
   "metadata": {},
   "source": [
    "Parameters:\n",
    "     -Need to create a method for having a secret dice roll at the beginning for the chosen distribution (i.e. the real effect of the independent variables {placement, first_image, and product_name} upon the incidence of the product being clicked, purchased, etc)\n",
    "         -store this variable to be checked after the data has been analyzed\n",
    "         -Needs noise factor?\n",
    "     -Distribution of time? cart total &contents? (i.e. is the product bought on it's own or with )\n",
    "     -returned items can be randomly distributed to be dropped. "
   ]
  },
  {
   "cell_type": "code",
   "execution_count": 5,
   "id": "6ca6b68a",
   "metadata": {
    "collapsed": true
   },
   "outputs": [
    {
     "ename": "NameError",
     "evalue": "name 'placement' is not defined",
     "output_type": "error",
     "traceback": [
      "\u001b[0;31m---------------------------------------------------------------------------\u001b[0m",
      "\u001b[0;31mNameError\u001b[0m                                 Traceback (most recent call last)",
      "\u001b[0;32m/tmp/ipykernel_1213/533705991.py\u001b[0m in \u001b[0;36m<module>\u001b[0;34m\u001b[0m\n\u001b[0;32m----> 1\u001b[0;31m data = {'placement':placement,\n\u001b[0m\u001b[1;32m      2\u001b[0m         \u001b[0;34m'first_image'\u001b[0m\u001b[0;34m:\u001b[0m\u001b[0mfirst_image\u001b[0m\u001b[0;34m,\u001b[0m\u001b[0;34m\u001b[0m\u001b[0;34m\u001b[0m\u001b[0m\n\u001b[1;32m      3\u001b[0m         \u001b[0;34m'purchaser_id'\u001b[0m\u001b[0;34m:\u001b[0m\u001b[0mpurchaser_id\u001b[0m\u001b[0;34m,\u001b[0m\u001b[0;34m\u001b[0m\u001b[0;34m\u001b[0m\u001b[0m\n\u001b[1;32m      4\u001b[0m         \u001b[0;34m'purchaser_review'\u001b[0m\u001b[0;34m:\u001b[0m\u001b[0mpurchaser_review\u001b[0m\u001b[0;34m,\u001b[0m\u001b[0;34m\u001b[0m\u001b[0;34m\u001b[0m\u001b[0m\n\u001b[1;32m      5\u001b[0m         \u001b[0;34m'time_of_purchase'\u001b[0m\u001b[0;34m:\u001b[0m\u001b[0mtime_of_purchase\u001b[0m\u001b[0;34m,\u001b[0m\u001b[0;34m\u001b[0m\u001b[0;34m\u001b[0m\u001b[0m\n",
      "\u001b[0;31mNameError\u001b[0m: name 'placement' is not defined"
     ]
    }
   ],
   "source": [
    "data = {'placement':placement,\n",
    "        'first_image':first_image,\n",
    "        'product_name':product_name,\n",
    "        'purchaser_id':customer_id,\n",
    "        'visited':visited,\n",
    "        'purchased':purchased,\n",
    "        'purchaser_review':purchaser_review,\n",
    "        'time_of_purchase':time_of_purchase,\n",
    "        'cart_total':cart_total,\n",
    "        'cart_contents':cart_contents,\n",
    "        'was_returned':was_returned,\n",
    "        'reason':reason\n",
    "       }"
   ]
  },
  {
   "cell_type": "code",
   "execution_count": 3,
   "id": "96e07154",
   "metadata": {},
   "outputs": [],
   "source": [
    "results = pd.DataFrame(data, )"
   ]
  },
  {
   "cell_type": "code",
   "execution_count": 4,
   "id": "df03ccff",
   "metadata": {},
   "outputs": [
    {
     "data": {
      "text/html": [
       "<div>\n",
       "<style scoped>\n",
       "    .dataframe tbody tr th:only-of-type {\n",
       "        vertical-align: middle;\n",
       "    }\n",
       "\n",
       "    .dataframe tbody tr th {\n",
       "        vertical-align: top;\n",
       "    }\n",
       "\n",
       "    .dataframe thead th {\n",
       "        text-align: right;\n",
       "    }\n",
       "</style>\n",
       "<table border=\"1\" class=\"dataframe\">\n",
       "  <thead>\n",
       "    <tr style=\"text-align: right;\">\n",
       "      <th></th>\n",
       "    </tr>\n",
       "  </thead>\n",
       "  <tbody>\n",
       "  </tbody>\n",
       "</table>\n",
       "</div>"
      ],
      "text/plain": [
       "Empty DataFrame\n",
       "Columns: []\n",
       "Index: []"
      ]
     },
     "execution_count": 4,
     "metadata": {},
     "output_type": "execute_result"
    }
   ],
   "source": [
    "results.append()"
   ]
  }
 ],
 "metadata": {
  "kernelspec": {
   "display_name": "Python 3 (ipykernel)",
   "language": "python",
   "name": "python3"
  },
  "language_info": {
   "codemirror_mode": {
    "name": "ipython",
    "version": 3
   },
   "file_extension": ".py",
   "mimetype": "text/x-python",
   "name": "python",
   "nbconvert_exporter": "python",
   "pygments_lexer": "ipython3",
   "version": "3.8.12"
  },
  "toc": {
   "base_numbering": 1,
   "nav_menu": {},
   "number_sections": true,
   "sideBar": true,
   "skip_h1_title": false,
   "title_cell": "Table of Contents",
   "title_sidebar": "Contents",
   "toc_cell": false,
   "toc_position": {},
   "toc_section_display": true,
   "toc_window_display": false
  }
 },
 "nbformat": 4,
 "nbformat_minor": 5
}
